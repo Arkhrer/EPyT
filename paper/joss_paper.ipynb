{
 "cells": [
  {
   "cell_type": "code",
   "execution_count": 31,
   "outputs": [],
   "source": [
    "# Import the module \"epanet\" from the package \"epyt\"\n",
    "from epyt import epanet"
   ],
   "metadata": {
    "collapsed": false
   }
  },
  {
   "cell_type": "code",
   "execution_count": 32,
   "outputs": [
    {
     "name": "stdout",
     "output_type": "stream",
     "text": [
      "EPANET version 20200 loaded (EPyT version 1.0.6).\n",
      "Input File L-TOWN.inp loaded successfully.\n",
      "\n"
     ]
    }
   ],
   "source": [
    "# Load the L-Town epanet input file and create the object G\n",
    "G = epanet('L-TOWN.inp')"
   ],
   "metadata": {
    "collapsed": false
   }
  },
  {
   "cell_type": "code",
   "execution_count": 33,
   "outputs": [
    {
     "data": {
      "text/plain": "['BinTempfile',\n 'CMDCODE',\n 'ControlLevelValues',\n 'ControlLinkIndex',\n 'ControlNodeIndex',\n 'ControlRulesCount',\n 'ControlSettings',\n 'ControlTypes',\n 'ControlTypesIndex',\n 'Controls',\n 'CurveCount',\n 'CurveIndex',\n 'CurvesInfo',\n 'DEMANDMODEL',\n 'InputFile',\n 'Iterations',\n 'LOGOP',\n 'LibEPANET',\n 'LibEPANETpath',\n 'LinkBulkReactionCoeff',\n 'LinkCount',\n 'LinkDiameter',\n 'LinkFlowUnits',\n 'LinkIndex',\n 'LinkInitialSetting',\n 'LinkInitialStatus',\n 'LinkLength',\n 'LinkMinorLossCoeff',\n 'LinkNameID',\n 'LinkPipeCount',\n 'LinkPipeIndex',\n 'LinkPipeNameID',\n 'LinkPumpCount',\n 'LinkPumpHeadCurveIndex',\n 'LinkPumpIndex',\n 'LinkPumpNameID',\n 'LinkPumpPatternIndex',\n 'LinkPumpPatternNameID',\n 'LinkPumpPower',\n 'LinkPumpType',\n 'LinkPumpTypeCode',\n 'LinkRoughnessCoeff',\n 'LinkType',\n 'LinkTypeIndex',\n 'LinkValveCount',\n 'LinkValveIndex',\n 'LinkValveNameID',\n 'LinkWallReactionCoeff',\n 'NodeBaseDemands',\n 'NodeCoordinates',\n 'NodeCount',\n 'NodeDemandCategoriesNumber',\n 'NodeDemandPatternIndex',\n 'NodeDemandPatternNameID',\n 'NodeElevations',\n 'NodeEmitterCoeff',\n 'NodeIndex',\n 'NodeInitialQuality',\n 'NodeJunctionCount',\n 'NodeJunctionIndex',\n 'NodeJunctionNameID',\n 'NodeNameID',\n 'NodePatternIndex',\n 'NodeReservoirCount',\n 'NodeReservoirIndex',\n 'NodeReservoirNameID',\n 'NodeSourcePatternIndex',\n 'NodeSourceQuality',\n 'NodeSourceTypeIndex',\n 'NodeTankBulkReactionCoeff',\n 'NodeTankCount',\n 'NodeTankDiameter',\n 'NodeTankIndex',\n 'NodeTankInitialLevel',\n 'NodeTankInitialWaterVolume',\n 'NodeTankMaximumWaterLevel',\n 'NodeTankMaximumWaterVolume',\n 'NodeTankMinimumFraction',\n 'NodeTankMinimumWaterLevel',\n 'NodeTankMinimumWaterVolume',\n 'NodeTankMixZoneVolume',\n 'NodeTankMixingModelCode',\n 'NodeTankMixingModelType',\n 'NodeTankNameID',\n 'NodeTankReservoirCount',\n 'NodeTankVolumeCurveIndex',\n 'NodeType',\n 'NodeTypeIndex',\n 'NodesConnectingLinksID',\n 'NodesConnectingLinksIndex',\n 'OptionsAccuracyValue',\n 'OptionsEmitterExponent',\n 'OptionsFlowChange',\n 'OptionsHeadError',\n 'OptionsHeadLossFormula',\n 'OptionsHydraulics',\n 'OptionsMaxTrials',\n 'OptionsPattern',\n 'OptionsPatternDemandMultiplier',\n 'OptionsQualityTolerance',\n 'OptionsSpecificGravity',\n 'OptionsUnbalanced',\n 'OptionsViscosity',\n 'Pattern',\n 'PatternAverageValue',\n 'PatternCount',\n 'PatternIndex',\n 'PatternLengths',\n 'PatternNameID',\n 'QualityChemName',\n 'QualityChemUnits',\n 'QualityCode',\n 'QualityTraceNodeIndex',\n 'QualityType',\n 'RULEOBJECT',\n 'RULEOPERATOR',\n 'RULESTATUS',\n 'RULEVARIABLE',\n 'RelativeError',\n 'RptTempfile',\n 'TYPEBINSTATUS',\n 'TYPECONTROL',\n 'TYPECURVE',\n 'TYPEHEADLOSS',\n 'TYPELINK',\n 'TYPEMIXMODEL',\n 'TYPENODE',\n 'TYPEPUMP',\n 'TYPEPUMPSTATE',\n 'TYPEQUALITY',\n 'TYPEREPORT',\n 'TYPESOURCE',\n 'TYPESTATS',\n 'TYPESTATUS',\n 'TYPEUNITS',\n 'TempInpFile',\n 'TimeHTime',\n 'TimeHaltFlag',\n 'TimeHydraulicStep',\n 'TimeNextEvent',\n 'TimePatternStart',\n 'TimePatternStep',\n 'TimeQualityStep',\n 'TimeReportingPeriods',\n 'TimeReportingStart',\n 'TimeReportingStep',\n 'TimeRuleControlStep',\n 'TimeSimulationDuration',\n 'TimeStartTime',\n 'TimeStatisticsIndex',\n 'TimeStatisticsType',\n 'ToolkitConstants',\n 'Version',\n '__class__',\n '__delattr__',\n '__dict__',\n '__dir__',\n '__doc__',\n '__eq__',\n '__format__',\n '__ge__',\n '__getattribute__',\n '__gt__',\n '__hash__',\n '__init__',\n '__init_subclass__',\n '__le__',\n '__lt__',\n '__module__',\n '__ne__',\n '__new__',\n '__reduce__',\n '__reduce_ex__',\n '__repr__',\n '__setattr__',\n '__sizeof__',\n '__str__',\n '__subclasshook__',\n '__weakref__',\n '_epanet__addComment',\n '_epanet__addControlFunction',\n '_epanet__changeNodeType',\n '_epanet__checkLinkIfString',\n '_epanet__controlSettings',\n '_epanet__createTempfiles',\n '_epanet__exist_inp_file',\n '_epanet__getControlIndices',\n '_epanet__getCurveIndices',\n '_epanet__getInitParams',\n '_epanet__getLinkIndices',\n '_epanet__getLinkInfo',\n '_epanet__getNodeIndices',\n '_epanet__getNodeInfo',\n '_epanet__getNodeJunctionIndices',\n '_epanet__getNodeTankMixiningModel',\n '_epanet__getPumpLinkInfo',\n '_epanet__getTankNodeInfo',\n '_epanet__isMember',\n '_epanet__readEpanetBin',\n '_epanet__returnValue',\n '_epanet__setControlFunction',\n '_epanet__setEval',\n '_epanet__setEvalLinkNode',\n '_epanet__setFlowUnits',\n '_epanet__setNodeDemandPattern',\n 'addControls',\n 'addCurve',\n 'addLinkPipe',\n 'addLinkPipeCV',\n 'addLinkPump',\n 'addLinkValveFCV',\n 'addLinkValveGPV',\n 'addLinkValvePBV',\n 'addLinkValvePRV',\n 'addLinkValvePSV',\n 'addLinkValveTCV',\n 'addNodeJunction',\n 'addNodeJunctionDemand',\n 'addNodeReservoir',\n 'addNodeTank',\n 'addPattern',\n 'addRules',\n 'api',\n 'appRotateNetwork',\n 'appShiftNetwork',\n 'arange',\n 'classversion',\n 'clearReport',\n 'closeHydraulicAnalysis',\n 'closeNetwork',\n 'closeQualityAnalysis',\n 'copyReport',\n 'createProject',\n 'deleteAllTemps',\n 'deleteControls',\n 'deleteCurve',\n 'deleteLink',\n 'deleteNode',\n 'deleteNodeJunctionDemand',\n 'deletePattern',\n 'deletePatternsAll',\n 'deleteProject',\n 'deleteRules',\n 'demModelInfo',\n 'getAdjacencyMatrix',\n 'getCMDCODE',\n 'getComputedHydraulicTimeSeries',\n 'getComputedQualityTimeSeries',\n 'getComputedTimeSeries',\n 'getComputedTimeSeries_ENepanet',\n 'getConnectivityMatrix',\n 'getControlRulesCount',\n 'getControls',\n 'getCounts',\n 'getCurveComment',\n 'getCurveCount',\n 'getCurveIndex',\n 'getCurveLengths',\n 'getCurveNameID',\n 'getCurveType',\n 'getCurveTypeIndex',\n 'getCurveValue',\n 'getCurvesInfo',\n 'getDemandModel',\n 'getENfunctionsImpemented',\n 'getError',\n 'getFlowUnits',\n 'getLibFunctions',\n 'getLinkActualQuality',\n 'getLinkBulkReactionCoeff',\n 'getLinkComment',\n 'getLinkCount',\n 'getLinkDiameter',\n 'getLinkEnergy',\n 'getLinkFlows',\n 'getLinkHeadloss',\n 'getLinkIndex',\n 'getLinkInitialSetting',\n 'getLinkInitialStatus',\n 'getLinkLength',\n 'getLinkMinorLossCoeff',\n 'getLinkNameID',\n 'getLinkNodesIndex',\n 'getLinkPipeCount',\n 'getLinkPipeIndex',\n 'getLinkPipeNameID',\n 'getLinkPumpCount',\n 'getLinkPumpECost',\n 'getLinkPumpECurve',\n 'getLinkPumpEPat',\n 'getLinkPumpEfficiency',\n 'getLinkPumpHCurve',\n 'getLinkPumpHeadCurveIndex',\n 'getLinkPumpIndex',\n 'getLinkPumpNameID',\n 'getLinkPumpPatternIndex',\n 'getLinkPumpPatternNameID',\n 'getLinkPumpPower',\n 'getLinkPumpState',\n 'getLinkPumpSwitches',\n 'getLinkPumpType',\n 'getLinkPumpTypeCode',\n 'getLinkQuality',\n 'getLinkResultIndex',\n 'getLinkRoughnessCoeff',\n 'getLinkSettings',\n 'getLinkStatus',\n 'getLinkType',\n 'getLinkTypeIndex',\n 'getLinkValveCount',\n 'getLinkValveIndex',\n 'getLinkValveNameID',\n 'getLinkVelocity',\n 'getLinkVertices',\n 'getLinkVerticesCount',\n 'getLinkWallReactionCoeff',\n 'getLinksInfo',\n 'getNetworksDatabase',\n 'getNodeActualDemand',\n 'getNodeActualDemandSensingNodes',\n 'getNodeActualQuality',\n 'getNodeActualQualitySensingNodes',\n 'getNodeBaseDemands',\n 'getNodeComment',\n 'getNodeCoordinates',\n 'getNodeCount',\n 'getNodeDemandCategoriesNumber',\n 'getNodeDemandDeficit',\n 'getNodeDemandPatternIndex',\n 'getNodeDemandPatternNameID',\n 'getNodeElevations',\n 'getNodeEmitterCoeff',\n 'getNodeHydraulicHead',\n 'getNodeIndex',\n 'getNodeInitialQuality',\n 'getNodeJunctionCount',\n 'getNodeJunctionDemandIndex',\n 'getNodeJunctionDemandName',\n 'getNodeJunctionIndex',\n 'getNodeJunctionNameID',\n 'getNodeMassFlowRate',\n 'getNodeNameID',\n 'getNodePatternIndex',\n 'getNodePressure',\n 'getNodeReservoirCount',\n 'getNodeReservoirIndex',\n 'getNodeReservoirNameID',\n 'getNodeResultIndex',\n 'getNodeSourcePatternIndex',\n 'getNodeSourceQuality',\n 'getNodeSourceType',\n 'getNodeSourceTypeIndex',\n 'getNodeTankBulkReactionCoeff',\n 'getNodeTankCanOverFlow',\n 'getNodeTankCount',\n 'getNodeTankData',\n 'getNodeTankDiameter',\n 'getNodeTankIndex',\n 'getNodeTankInitialLevel',\n 'getNodeTankInitialWaterVolume',\n 'getNodeTankMaximumWaterLevel',\n 'getNodeTankMaximumWaterVolume',\n 'getNodeTankMinimumWaterLevel',\n 'getNodeTankMinimumWaterVolume',\n 'getNodeTankMixZoneVolume',\n 'getNodeTankMixingFraction',\n 'getNodeTankMixingModelCode',\n 'getNodeTankMixingModelType',\n 'getNodeTankNameID',\n 'getNodeTankReservoirCount',\n 'getNodeTankVolume',\n 'getNodeTankVolumeCurveIndex',\n 'getNodeType',\n 'getNodeTypeIndex',\n 'getNodesConnectingLinksID',\n 'getNodesConnectingLinksIndex',\n 'getNodesInfo',\n 'getOptionsAccuracyValue',\n 'getOptionsCheckFrequency',\n 'getOptionsDampLimit',\n 'getOptionsDemandCharge',\n 'getOptionsEmitterExponent',\n 'getOptionsExtraTrials',\n 'getOptionsFlowChange',\n 'getOptionsGlobalEffic',\n 'getOptionsGlobalPattern',\n 'getOptionsGlobalPrice',\n 'getOptionsHeadError',\n 'getOptionsHeadLossFormula',\n 'getOptionsLimitingConcentration',\n 'getOptionsMaxTrials',\n 'getOptionsMaximumCheck',\n 'getOptionsPatternDemandMultiplier',\n 'getOptionsPipeBulkReactionOrder',\n 'getOptionsPipeWallReactionOrder',\n 'getOptionsQualityTolerance',\n 'getOptionsSpecificDiffusivity',\n 'getOptionsSpecificGravity',\n 'getOptionsSpecificViscosity',\n 'getOptionsTankBulkReactionOrder',\n 'getPattern',\n 'getPatternAverageValue',\n 'getPatternComment',\n 'getPatternCount',\n 'getPatternIndex',\n 'getPatternLengths',\n 'getPatternNameID',\n 'getPatternValue',\n 'getQualityCode',\n 'getQualityInfo',\n 'getQualityTraceNodeIndex',\n 'getQualityType',\n 'getRuleCount',\n 'getRuleID',\n 'getRuleInfo',\n 'getRules',\n 'getStatistic',\n 'getTimeHTime',\n 'getTimeHaltFlag',\n 'getTimeHydraulicStep',\n 'getTimeNextEvent',\n 'getTimeNextEventTank',\n 'getTimePatternStart',\n 'getTimePatternStep',\n 'getTimeQTime',\n 'getTimeQualityStep',\n 'getTimeReportingPeriods',\n 'getTimeReportingStart',\n 'getTimeReportingStep',\n 'getTimeRuleControlStep',\n 'getTimeSimulationDuration',\n 'getTimeStartTime',\n 'getTimeStatisticsIndex',\n 'getTimeStatisticsType',\n 'getTitle',\n 'getUnits',\n 'getVersion',\n 'initializeEPANET',\n 'initializeHydraulicAnalysis',\n 'initializeQualityAnalysis',\n 'libFunctions',\n 'linkInfo',\n 'loadEPANETFile',\n 'max',\n 'min',\n 'multiply_elements',\n 'netName',\n 'nextHydraulicAnalysisStep',\n 'nextQualityAnalysisStep',\n 'nodeInfo',\n 'openAnyInp',\n 'openCurrentInp',\n 'openHydraulicAnalysis',\n 'openQualityAnalysis',\n 'plot',\n 'plot_close',\n 'plot_save',\n 'plot_show',\n 'plot_ts',\n 'printv',\n 'qual',\n 'reloadNetwork',\n 'runEPANETexe',\n 'runHydraulicAnalysis',\n 'runQualityAnalysis',\n 'runsCompleteSimulation',\n 'saveHydraulicFile',\n 'saveHydraulicsOutputReportingFile',\n 'saveInputFile',\n 'setCMDCODE',\n 'setControls',\n 'setCurve',\n 'setCurveComment',\n 'setCurveNameID',\n 'setCurveValue',\n 'setDemandModel',\n 'setFlowUnitsAFD',\n 'setFlowUnitsCFS',\n 'setFlowUnitsCMD',\n 'setFlowUnitsCMH',\n 'setFlowUnitsGPM',\n 'setFlowUnitsIMGD',\n 'setFlowUnitsLPM',\n 'setFlowUnitsLPS',\n 'setFlowUnitsMGD',\n 'setFlowUnitsMLD',\n 'setLinkBulkReactionCoeff',\n 'setLinkComment',\n 'setLinkDiameter',\n 'setLinkInitialSetting',\n 'setLinkInitialStatus',\n 'setLinkLength',\n 'setLinkMinorLossCoeff',\n 'setLinkNameID',\n 'setLinkNodesIndex',\n 'setLinkPipeData',\n 'setLinkPumpECost',\n 'setLinkPumpECurve',\n 'setLinkPumpEPat',\n 'setLinkPumpHCurve',\n 'setLinkPumpHeadCurveIndex',\n 'setLinkPumpPatternIndex',\n 'setLinkPumpPower',\n 'setLinkRoughnessCoeff',\n 'setLinkSettings',\n 'setLinkStatus',\n 'setLinkTypePipe',\n 'setLinkTypePipeCV',\n 'setLinkTypePump',\n 'setLinkTypeValveFCV',\n 'setLinkTypeValveGPV',\n 'setLinkTypeValvePBV',\n 'setLinkTypeValvePRV',\n 'setLinkTypeValvePSV',\n 'setLinkTypeValveTCV',\n 'setLinkVertices',\n 'setLinkWallReactionCoeff',\n 'setNodeBaseDemands',\n 'setNodeComment',\n 'setNodeCoordinates',\n 'setNodeDemandPatternIndex',\n 'setNodeElevations',\n 'setNodeEmitterCoeff',\n 'setNodeInitialQuality',\n 'setNodeJunctionData',\n 'setNodeJunctionDemandName',\n 'setNodeNameID',\n 'setNodeSourcePatternIndex',\n 'setNodeSourceQuality',\n 'setNodeSourceType',\n 'setNodeTankBulkReactionCoeff',\n 'setNodeTankCanOverFlow',\n 'setNodeTankData',\n 'setNodeTankDiameter',\n 'setNodeTankInitialLevel',\n 'setNodeTankMaximumWaterLevel',\n 'setNodeTankMinimumWaterLevel',\n 'setNodeTankMinimumWaterVolume',\n 'setNodeTankMixingFraction',\n 'setNodeTankMixingModelType',\n 'setNodeTypeJunction',\n 'setNodeTypeReservoir',\n 'setNodeTypeTank',\n 'setNodesConnectingLinksID',\n 'setOptionsAccuracyValue',\n 'setOptionsCheckFrequency',\n 'setOptionsDampLimit',\n 'setOptionsDemandCharge',\n 'setOptionsEmitterExponent',\n 'setOptionsExtraTrials',\n 'setOptionsFlowChange',\n 'setOptionsGlobalEffic',\n 'setOptionsGlobalPattern',\n 'setOptionsGlobalPrice',\n 'setOptionsHeadError',\n 'setOptionsHeadLossFormula',\n 'setOptionsLimitingConcentration',\n 'setOptionsMaxTrials',\n 'setOptionsMaximumCheck',\n 'setOptionsPatternDemandMultiplier',\n 'setOptionsPipeBulkReactionOrder',\n 'setOptionsPipeWallReactionOrder',\n 'setOptionsQualityTolerance',\n 'setOptionsSpecificDiffusivity',\n 'setOptionsSpecificGravity',\n 'setOptionsSpecificViscosity',\n 'setOptionsTankBulkReactionOrder',\n 'setPattern',\n 'setPatternComment',\n 'setPatternMatrix',\n 'setPatternNameID',\n 'setPatternValue',\n 'setQualityType',\n 'setReport',\n 'setReportFormatReset',\n 'setReportStatus',\n 'setRuleElseAction',\n 'setRulePremise',\n 'setRulePremiseObjectNameID',\n 'setRulePremiseStatus',\n 'setRulePremiseValue',\n 'setRulePriority',\n 'setRuleThenAction',\n 'setRules',\n 'setTimeHydraulicStep',\n 'setTimePatternStart',\n 'setTimePatternStep',\n 'setTimeQualityStep',\n 'setTimeReportingStart',\n 'setTimeReportingStep',\n 'setTimeRuleControlStep',\n 'setTimeSimulationDuration',\n 'setTimeStatisticsType',\n 'setTitle',\n 'solveCompleteHydraulics',\n 'solveCompleteQuality',\n 'splitPipe',\n 'stepQualityAnalysisTimeLeft',\n 'to_array',\n 'to_mat',\n 'units',\n 'unload',\n 'useHydraulicFile',\n 'writeLineInReportFile',\n 'writeReport']"
     },
     "execution_count": 33,
     "metadata": {},
     "output_type": "execute_result"
    }
   ],
   "source": [
    "dir(G)  # Lists all available functions and properties in G"
   ],
   "metadata": {
    "collapsed": false
   }
  },
  {
   "cell_type": "code",
   "execution_count": 34,
   "outputs": [
    {
     "name": "stdout",
     "output_type": "stream",
     "text": [
      "Help on method getNodeElevations in module epyt.epanet:\n",
      "\n",
      "getNodeElevations(*argv) method of epyt.epanet.epanet instance\n",
      "    Retrieves the value of all node elevations.\n",
      "    Example:\n",
      "    \n",
      "    >>> d.getNodeElevations()             # Retrieves the value of all node elevations\n",
      "    >>> d.getNodeElevations(1)            # Retrieves the value of the first node elevation\n",
      "    >>> d.getNodeElevations([4, 5, 6])    # Retrieves the value of the 5th to 7th node elevations\n",
      "    \n",
      "    See also setNodeElevations, getNodesInfo, getNodeNameID,\n",
      "    getNodeType, getNodeEmitterCoeff, getNodeInitialQuality.\n",
      "\n"
     ]
    }
   ],
   "source": [
    "help(G.getNodeElevations)  # Retrieve some examples for the function getNodeElevations"
   ],
   "metadata": {
    "collapsed": false
   }
  },
  {
   "cell_type": "code",
   "execution_count": 35,
   "outputs": [
    {
     "name": "stdout",
     "output_type": "stream",
     "text": [
      "[200. 150. 200. 100. 100. 100. 100. 100. 150. 100. 100. 100. 100. 100.\n",
      " 100. 100. 100. 100. 100. 100. 100. 100. 100. 100. 100. 100. 100. 100.\n",
      " 100. 100. 100. 100. 100. 100. 100. 150. 100. 100. 200. 150. 100. 100.\n",
      " 100. 100. 100. 100. 100. 100. 200. 100. 100. 100. 100. 100. 100. 100.\n",
      " 150. 100. 100. 100. 100. 100. 100. 100. 100. 100. 100. 100. 100. 100.\n",
      " 100. 150. 150. 150. 150. 150.  63.  63. 150. 100.  75. 100. 100. 100.\n",
      " 100.  63. 150. 150. 150. 150. 150. 160. 160. 100. 100. 100. 100. 100.\n",
      " 100. 100. 160. 100. 100. 150. 100. 100. 150. 100. 100. 200. 100.  63.\n",
      " 150. 100. 100. 100. 100. 150. 100. 150. 150. 150. 100. 150. 150. 100.\n",
      " 100. 150. 100. 100. 100. 150. 100. 150. 100. 100. 160. 100. 100. 100.\n",
      " 160. 100. 160. 100. 100. 100. 100. 100. 100. 100. 100. 100. 100. 100.\n",
      " 150. 100. 100. 100. 100. 100. 100. 100. 150. 100. 100. 100. 100. 100.\n",
      " 100. 100. 100. 100. 100. 100. 100. 100. 100. 100. 100. 100. 100. 200.\n",
      " 100. 100. 100. 100. 100. 100. 100. 100. 100. 100. 100. 100. 100. 100.\n",
      " 150. 150. 150. 150. 100. 150. 150. 100. 100. 160. 100. 150. 100. 100.\n",
      " 150. 100. 100. 150. 100. 100. 100. 100. 100. 100. 100. 100. 150. 100.\n",
      " 100. 100. 200. 150. 100. 100. 100. 100. 100. 150. 200. 100. 100. 150.\n",
      " 200. 200. 100. 100. 100. 100. 100. 100. 100. 100. 100. 100. 100. 100.\n",
      " 100. 100. 100. 100. 100. 100. 100. 100. 100. 100. 100. 100. 100. 100.\n",
      " 100. 100. 100. 100. 100. 100. 100. 100. 100. 100. 100. 100. 100. 100.\n",
      " 100. 100. 100. 100. 100. 100. 100. 100. 100. 100. 100. 100. 100. 100.\n",
      " 100. 100. 100. 100. 100. 100. 100. 100. 100. 100. 100. 100. 100. 100.\n",
      " 100. 100. 100. 100. 100. 100. 100. 200. 200. 200. 100. 100. 100. 100.\n",
      " 100. 100. 100. 100. 100. 100. 100. 100. 100. 100. 100. 100. 100. 100.\n",
      " 100. 100. 100. 100. 100. 100. 100. 100. 100. 200. 200. 100. 100. 100.\n",
      " 100. 100. 150. 150. 150. 100. 100. 100. 100. 100. 100. 100. 150. 150.\n",
      " 150. 100. 100. 100. 100. 100. 100. 100. 100. 100. 200. 200. 200. 200.\n",
      " 200. 200. 200. 200. 100. 100. 100. 100. 150. 150. 100. 100. 100. 100.\n",
      " 100. 100. 150. 150. 150. 150. 100. 100. 100. 100. 100. 100. 100. 100.\n",
      " 100. 100. 100. 100. 100. 100. 100. 100. 100. 150. 150. 150. 150. 150.\n",
      " 100. 100. 100. 100. 200. 200. 200. 100. 100. 100. 100. 150. 150. 150.\n",
      " 100. 100. 100. 100. 100. 100. 100. 100. 100. 100. 100. 100. 100. 100.\n",
      " 100. 100. 100. 100. 100. 100. 100. 100. 100. 100. 100. 100. 100. 100.\n",
      " 100. 100. 100. 100. 100. 150. 150. 150. 150. 100. 100. 100. 100. 100.\n",
      " 200. 200. 100. 100. 100. 100. 100. 100. 100. 100. 100. 100. 100. 100.\n",
      " 100. 100. 100. 100. 100. 100. 100. 100. 100. 100. 100. 100. 100. 100.\n",
      " 100. 150. 150. 150. 100. 100. 100. 100. 100. 100. 100. 100. 100. 100.\n",
      " 100. 100. 100. 100. 100. 100. 100. 100. 100. 100. 100. 100. 100. 100.\n",
      " 100. 100. 100. 100. 150. 150. 100. 100. 100. 100. 100. 100. 100. 100.\n",
      " 100. 100. 100. 100. 150. 150. 100. 100. 100. 100. 100. 100. 100. 100.\n",
      " 100. 100. 100. 100. 100. 100. 100. 100. 100. 100. 100. 100. 100. 100.\n",
      " 100. 100. 100. 100. 100. 100. 100. 100. 100. 100. 100. 100. 100. 100.\n",
      " 100. 100. 100. 100. 100. 100. 100. 100. 100. 100. 100. 100. 100. 100.\n",
      " 100. 100. 100. 100. 100. 100. 100. 100. 100. 100. 100. 100. 100. 100.\n",
      " 100. 100. 100. 100. 100. 100. 100. 100. 100. 100. 100. 100. 160. 160.\n",
      " 100. 100. 100. 100. 100. 100. 100. 100. 100. 100. 100. 100. 100. 100.\n",
      " 100. 100. 160. 160. 160. 160. 160. 100. 100. 100. 100. 100. 100. 100.\n",
      " 100. 100. 100. 100. 100. 100. 100. 100. 100. 100. 100. 100. 160. 160.\n",
      " 100. 100. 100. 100. 100. 100. 100. 100. 200. 200. 200. 200. 200. 100.\n",
      " 100. 150. 150. 200. 200. 200. 200. 200. 200. 150. 150. 150. 150. 150.\n",
      " 150. 100. 100. 100. 100. 100. 100. 100. 100. 100. 100. 100. 100. 100.\n",
      " 100. 100. 100. 100. 100. 100. 100. 100. 100. 100. 100. 200. 200. 200.\n",
      " 100. 100. 100. 100. 100. 100. 100. 100. 100. 100. 200. 200. 200. 200.\n",
      " 200. 200. 100. 100. 100. 100. 100. 100. 150. 150. 100. 100. 100. 100.\n",
      " 100. 225. 225. 225. 100. 100. 100. 100. 100. 100. 100. 100. 150. 150.\n",
      " 100. 100. 100. 100. 100. 200. 200. 200. 200. 200. 200. 225. 225. 225.\n",
      " 100. 100. 100. 100. 100. 100. 100. 100. 100. 100. 100. 100. 100. 100.\n",
      " 100. 100. 100. 100. 100. 100. 100. 225. 225. 225. 225. 225. 225. 100.\n",
      " 100. 100. 100. 100. 100. 100. 100. 100. 100. 100. 100. 100. 100. 100.\n",
      " 100. 100. 100. 100. 100. 100. 100. 100. 100. 100. 100. 100. 100. 100.\n",
      " 100. 100. 100. 100. 100. 100. 100. 100. 150. 150. 150. 150. 150. 100.\n",
      " 100. 100. 100. 100. 100. 100. 100. 100. 100. 100. 100. 100. 100. 100.\n",
      " 100. 100. 200. 200. 100. 100. 100. 100. 100. 150. 150. 150. 150. 150.\n",
      " 150. 150. 200. 200. 200. 200. 150. 150. 200. 200. 200. 200. 100. 100.\n",
      " 150. 150. 150. 100. 100. 100. 100. 100. 100.   0. 200. 200. 150.]\n"
     ]
    }
   ],
   "source": [
    "diameters = G.getLinkDiameter()  # retrieve Link diameters\n",
    "print(diameters)"
   ],
   "metadata": {
    "collapsed": false
   }
  },
  {
   "cell_type": "code",
   "execution_count": 36,
   "outputs": [
    {
     "name": "stdout",
     "output_type": "stream",
     "text": [
      "[ 73.2105  73.8737  73.1782  68.2608  65.5695  70.9095  75.9175  64.4833\n",
      "  69.2626  74.3469  63.0588  68.2274  61.9901  68.5805  70.9492  68.7986\n",
      "  60.5935  67.142   73.3626  65.9549  59.6849  76.1173  64.2052  67.8217\n",
      "  58.9717  61.6305  65.7763  61.4047  71.5429  75.3299  65.0059  71.159\n",
      "  60.5902  65.8482  59.6258  70.1959  63.9172  58.5794  62.9791  60.2093\n",
      "  69.2961  61.0635  61.8585  66.1177  62.5989  38.8781  38.7028  40.1135\n",
      "  34.8665  44.7174  29.8508  33.2106  29.1285  36.6718  43.7044  32.7019\n",
      "  34.5788  30.1017  40.544   36.5477  36.5714  35.96    37.0071  34.9234\n",
      "  36.2244  34.276   32.5016  41.0943  27.7774  29.8554  30.0823  34.4673\n",
      "  33.0899  32.3582  40.1001  30.5603  33.9737  29.2383  32.7267  27.7113\n",
      "  31.0269  39.6884  35.7824  28.8092  38.6811  38.1149  35.2466  34.2301\n",
      "  31.7913  36.3955  33.0649  33.1049  29.3998  27.5188  25.4416  24.1924\n",
      "  27.2125  25.5648  23.3478  25.0658  24.157   23.6941  24.3635  20.9592\n",
      "  24.022   23.5008  23.541   19.8166  23.4984  23.8384  25.      23.5656\n",
      "  23.6071  20.4764  23.8321  20.911   26.9614  19.0993  20.0895  22.6201\n",
      "  19.3967  22.4946  21.5338  22.6501  20.5899  19.167   19.1187  22.0969\n",
      "  25.901   22.1732  19.552   20.3762  22.5783  19.2113  19.1205  20.3013\n",
      "  19.6856  20.838   19.6632  27.3504  23.1252  19.6239  20.8754  26.9472\n",
      "  22.1344  21.8276  19.9725  20.1477  20.9496  22.6861  19.8447  19.1334\n",
      "  22.6394  20.3582  26.3852  20.0619  20.4464  19.7472  27.0053  20.2078\n",
      "  21.3197  26.9729  21.6096  20.2745  19.8081  20.275   22.5413  20.4384\n",
      "  27.0181  23.2339  20.6067  19.1601  21.0596  21.4292  19.3536  27.7038\n",
      "  19.3479  21.9026  19.4895  22.7778  23.7049  25.085   19.3859  27.2441\n",
      "  19.0789  21.8196  19.0349  18.8768  18.6826  19.6529  27.4799  22.206\n",
      "  19.7041  19.7601  16.8285  19.8226  16.5799  22.8492  16.5475  18.2407\n",
      "  19.106   17.9436  22.0332  16.436    6.9791   7.9123   2.0579   5.9061\n",
      "   4.6117   2.7477   4.8451   2.3488   3.2427  16.8316   2.0066   2.4091\n",
      "   1.8712  29.6006  28.4518  30.7523  28.2232  28.0585  28.5629  26.9114\n",
      "  25.5      6.113    5.7901  27.3852  21.5781  28.3962   4.8639  26.0377\n",
      "   4.4157   5.1036  24.1047   3.0871   4.0834  24.6076  22.9677  28.8065\n",
      "  22.1953   2.3582   2.6564  21.2523  28.661    1.9044   2.117   29.31\n",
      "  28.5347  28.414   21.3004  24.7044   2.2871   2.2175  20.9378  17.777\n",
      "  28.3219  24.7483  24.601   17.7457  16.7006  24.2606  24.6696  20.6282\n",
      "  28.4319  19.968   23.3745  21.9354  26.1653  20.8216  34.039   20.1368\n",
      "  24.5091  32.8648  29.2533  21.3002  22.448   22.0132  21.7544  29.6042\n",
      "  31.2675  30.4949  27.4233  26.3666  20.4612  29.0388  33.0444  21.6218\n",
      "  27.4463  24.6247  32.4985  31.9495  26.5282  26.5192  30.8274  32.1966\n",
      "  23.3934  34.8909  26.7205  35.      23.52    23.3123  34.4994  32.978\n",
      "  25.4869  23.6839  31.4204  23.3861  23.1678  22.36    29.5998  22.0779\n",
      "  21.7616  29.6902  22.7969  29.3551  22.2884  23.5639  30.4617  28.2142\n",
      "  21.897   26.9371  26.0702  24.9686  24.3047  23.6854  22.2849  22.1954\n",
      "  24.3743  22.0274  22.9257  18.      18.      18.      27.45    26.\n",
      "   4.1     28.2     22.8     30.1     22.8     27.36    66.12    74.28\n",
      "  71.23    67.93    73.6617  74.1128  74.564   75.0152  75.4663  74.1103\n",
      "  73.5455  73.9127  66.4555  67.3414  69.745   75.9841  76.0507  64.9738\n",
      "  65.4644  74.0188  73.6907  63.4409  63.8231  61.8702  61.7504  71.0896\n",
      "  60.5924  60.5913  73.8213  65.8656  59.6553  74.9737  73.8301  72.6865\n",
      "  62.9179  68.9578  70.0939  61.2341  74.0464  72.7629  71.4794  69.5445\n",
      "  66.8891  59.3943  64.9448  63.7718  67.0238  38.164   37.6252  37.0865\n",
      "  38.8775  39.0521  39.2268  39.4015  39.5761  39.7508  39.9254  40.257\n",
      "  40.4005  41.2645  42.4154  43.5664  34.7226  29.9762  31.6562  36.3159\n",
      "  42.1242  42.8344  41.9643  32.6351  32.5684  34.4274  28.5315  40.7274\n",
      "  40.9109  35.4624  34.9649  37.454   37.9009  38.3478  38.7946  39.2415\n",
      "  34.3122  33.7011  36.5315  36.8386  37.1457  37.4527  37.7598  38.0669\n",
      "  38.374   40.5972  28.8164  34.2205  32.5424  39.8942  30.7936  34.2919\n",
      "  34.6102  34.9284  29.0953  28.9522  28.2603  31.218   31.4091  31.6002\n",
      "  39.1847  35.9868  36.1911  29.8032  30.7973  34.0772  32.9079  31.7385\n",
      "  30.5692  30.598   29.4047  28.2114  34.297   32.1985  28.8609  28.3219\n",
      "  27.783   28.7199  28.0399  26.5418  26.9995  26.4802  25.9609  24.817\n",
      "  24.1747  26.1391  26.0878  24.9631  24.8609  22.8701  22.3924  21.9146\n",
      "  21.4369  24.3157  24.5439  22.6375  21.7743  19.458   19.9531  22.7713\n",
      "  22.0441  21.317   23.0928  22.916   22.2249  23.2411  22.9645  25.3653\n",
      "  23.7693  26.4312  19.6041  22.0404  21.4607  20.881   19.2577  20.9964\n",
      "  19.4982  20.955   20.9532  20.3725  19.7919  21.1001  19.55    20.1304\n",
      "  19.6708  19.291   19.4151  19.5392  20.7313  19.3656  26.6257  24.9757\n",
      "  24.0505  21.5056  20.0309  20.3387  21.4862  19.4866  19.31    25.7956\n",
      "  24.2409  19.3787  19.7982  20.9125  20.4687  25.5403  24.1334  22.7266\n",
      "  22.2569  19.0738  20.698   18.9223  19.1791  24.7933  23.2015  20.1273\n",
      "  19.7594  19.7716  19.7837  19.7959  19.5515  19.3558  25.5173  24.0293\n",
      "  19.9928  19.7778  19.5629  20.8791  25.1034  20.1175  19.9605  19.8035\n",
      "  19.6465  19.4841  20.0358  19.7966  19.5573  19.3181  25.3129  23.6078\n",
      "  20.2607  19.9147  19.5688  19.2228  20.5842  20.1088  19.6334  19.158\n",
      "  25.7043  27.4739  26.1646  20.7618  18.2994  17.564   26.3222  25.1646\n",
      "  24.0069  24.9275  22.375   20.983   18.7     17.64    16.7042  19.1676\n",
      "  18.5126  17.8575  17.2025  19.4271  19.0316  18.6362  22.6452  22.4412\n",
      "  22.2372  21.313   19.7769  16.5252  16.5029  16.4806  16.4583  16.7894\n",
      "  17.0313  17.2732  17.515   17.7569  17.9988  18.6734  17.7895  17.3383\n",
      "  16.8872  20.5696  17.6656  17.3876  17.1096  16.6338   7.0127   2.4028\n",
      "   5.003    4.6304  30.1764  28.8837  28.1669  28.2551  28.3259  30.3596\n",
      "  29.9669  29.5743  29.1816  28.7889  26.9784  25.8984  24.8183  23.7382\n",
      "  22.6582  27.9316  27.3003  26.669   28.3274  28.0918  27.8563  27.6207\n",
      "  26.2097  25.508   24.8064  26.2057  24.6559  23.8118  24.6738  23.8476\n",
      "  23.0215  28.0958  28.7008  29.0054  27.781   26.7555  25.7299  27.6828\n",
      "  26.7047  25.7265   2.061   30.0982  30.8863  31.6745  32.4627  33.2508\n",
      "  20.4117  19.523   18.6344  22.8211  20.783   28.3769  27.1045  25.887\n",
      "  17.846   18.9914  22.4444  25.358   26.0464  26.7349  20.3948  20.9906\n",
      "  26.2324  26.2995  20.4792  34.181   34.323   34.465   34.6069  34.7489\n",
      "  20.2449  20.3531  24.5476  24.5862  32.9247  32.9845  22.9922  23.5364\n",
      "  24.0805  21.6881  21.1078  31.0475  30.3159  30.1369  29.9578  29.7788\n",
      "  20.6779  20.8947  21.1114  21.3281  21.5449  28.921   28.8032  28.6854\n",
      "  28.5676  28.4498  28.332   33.0223  33.0001  27.3736  27.3008  27.2281\n",
      "  27.1553  27.0826  27.0098  26.6199  25.5195  24.5197  31.0251  31.2227\n",
      "  32.5873  33.5907  32.2906  30.9904  26.6121  26.5037  26.3954  26.287\n",
      "  26.1786  33.9145  33.0513  32.1881  31.3249  22.8362  25.4005  25.3141\n",
      "  25.2277  25.1414  25.055   23.6439  23.6039  30.5101  22.9823  22.1832\n",
      "  21.8293  23.1804  23.8108  24.0578  29.5921  28.7224  27.8528  26.9832\n",
      "  26.1136  25.2439  21.9296  21.9622  21.9948  23.65    22.4765  28.775\n",
      "  25.5     27.92    27.64    26.4     24.6     25.08   100.     100.\n",
      "  98.68  ]\n"
     ]
    }
   ],
   "source": [
    "elevations = G.getNodeElevations()  # retrieve Node elevations\n",
    "print(elevations)"
   ],
   "metadata": {
    "collapsed": false
   }
  },
  {
   "cell_type": "code",
   "execution_count": 37,
   "outputs": [
    {
     "name": "stdout",
     "output_type": "stream",
     "text": [
      "[150.  90.]\n"
     ]
    }
   ],
   "source": [
    "G.getLinkDiameter([2, 10])  # Link diameter for link indices 2 & 10\n",
    "G.setLinkDiameter(10, 90)  # Change the link with index 10 diameter to 90mm\n",
    "n_diameter = G.getLinkDiameter([2, 10])  # Retrieve the diameter of link index 10\n",
    "print(n_diameter)"
   ],
   "metadata": {
    "collapsed": false
   }
  },
  {
   "cell_type": "code",
   "execution_count": 38,
   "outputs": [],
   "source": [
    "# Solve hydraulics and quality dynamics\n",
    "# H = G.getComputedHydraulicTimeSeries()  # Solve hydraulics in library\n",
    "# Q = G.getComputedQualityTimeSeries()  # Solve quality dynamics in library\n",
    "R = G.getComputedTimeSeries_ENepanet()  # Solve all dynamics in library, create a binary file to store the computed\n",
    "# values"
   ],
   "metadata": {
    "collapsed": false
   }
  },
  {
   "cell_type": "code",
   "execution_count": null,
   "outputs": [],
   "source": [
    "# Plot Network\n",
    "G.plot()"
   ],
   "metadata": {
    "collapsed": false,
    "pycharm": {
     "is_executing": true
    }
   }
  },
  {
   "cell_type": "markdown",
   "source": [],
   "metadata": {
    "collapsed": false
   }
  },
  {
   "cell_type": "code",
   "execution_count": null,
   "outputs": [],
   "source": [
    "# Plot link flows and quality\n",
    "hrs_time = R.Time / 3600  # transform seconds into hours\n",
    "link_indices = [1, 5]  # select indices to plot\n",
    "link_names = G.getLinkNameID(link_indices)  # get the ID of the link indices\n",
    "\n",
    "G.plot_ts(X=hrs_time, Y=R.Flow[:, link_indices], title=f'Flow of links with ID: {link_names}', figure_size=[4, 3],\n",
    "          legend_location='best', xlabel='Time (hours)', ylabel=f'Flow ($m^3$/hour)', marker=None, color=['r', 'g'],\n",
    "          fontsize=7, fontsize_title=8, labels=link_names, save_fig=True, filename='figures/paper_flows')"
   ],
   "metadata": {
    "collapsed": false,
    "pycharm": {
     "is_executing": true
    }
   }
  }
 ],
 "metadata": {
  "kernelspec": {
   "display_name": "Python 3",
   "language": "python",
   "name": "python3"
  },
  "language_info": {
   "codemirror_mode": {
    "name": "ipython",
    "version": 2
   },
   "file_extension": ".py",
   "mimetype": "text/x-python",
   "name": "python",
   "nbconvert_exporter": "python",
   "pygments_lexer": "ipython2",
   "version": "2.7.6"
  }
 },
 "nbformat": 4,
 "nbformat_minor": 0
}
